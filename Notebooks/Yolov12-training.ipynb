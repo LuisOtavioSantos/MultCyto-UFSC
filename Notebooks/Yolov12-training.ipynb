{
 "cells": [
  {
   "cell_type": "markdown",
   "id": "fde89e2f",
   "metadata": {},
   "source": [
    "# YOLO12n-SEG Training"
   ]
  },
  {
   "cell_type": "code",
   "execution_count": null,
   "id": "ea33458f-e8ca-4021-9ae2-c930f8f0d4a3",
   "metadata": {},
   "outputs": [],
   "source": [
    "%reload_ext autoreload\n",
    "%autoreload 2\n",
    "%matplotlib inline\n",
    "!nvcc --version\n",
    "\n",
    "import os\n",
    "import torch\n",
    "from IPython import get_ipython\n",
    "\n",
    "\n",
    "BASE_PATH = os.path.dirname(os.getcwd())\n",
    "VISIBLE_GPUS = [3,4,6]\n",
    "\n",
    "os.environ[\"CUDA_VISIBLE_DEVICES\"] = str(VISIBLE_GPUS).replace(\"]\", \"\").replace(\"[\",\"\").replace(\" \", \"\")\n",
    "os.environ[\"NVIDIA_VISIBLE_DEVICES\"] = str(VISIBLE_GPUS).replace(\"]\", \"\").replace(\"[\",\"\").replace(\" \", \"\")\n",
    "print(\"CUDA GPUS NUMBER: \", torch.cuda.device_count())"
   ]
  },
  {
   "cell_type": "code",
   "execution_count": null,
   "id": "dd991cf9-af1b-479c-b8d8-cce5f4284a24",
   "metadata": {},
   "outputs": [],
   "source": [
    "YAML_RELATIVE_PATH = \"dataset/data.yaml\"\n",
    "DATA_YAML = os.path.join(BASE_PATH, YAML_RELATIVE_PATH)\n",
    "\n",
    "print(BASE_PATH)\n",
    "print(DATA_YAML)\n",
    "print(YAML_RELATIVE_PATH)"
   ]
  },
  {
   "cell_type": "code",
   "execution_count": null,
   "id": "4cf3d8a4-0b8c-404a-bf55-3521af7f428c",
   "metadata": {
    "scrolled": true
   },
   "outputs": [],
   "source": [
    "import numpy as np\n",
    "import json\n",
    "import os\n",
    "import datetime\n",
    "import pytz\n",
    "from ultralytics import YOLO\n",
    "\n",
    "class NPEncoder(json.JSONEncoder):\n",
    "    def default(self, obj):\n",
    "        if isinstance(obj, np.ndarray):\n",
    "            return obj.tolist()\n",
    "        return super().default(obj)"
   ]
  },
  {
   "cell_type": "code",
   "execution_count": null,
   "id": "120c3151-4b88-4775-bcc8-c85009f4ddaf",
   "metadata": {
    "scrolled": true
   },
   "outputs": [],
   "source": [
    "BATCH_SIZE = 128\n",
    "TRAIN_EPOCH = 100\n",
    "IM_SIZE = 640\n",
    "GPUS=[7]\n",
    "RESULTS_RELATIVE_PATH = 'results/yolo12s/'\n",
    "current_run = datetime.datetime.now(pytz.timezone(\"America/Sao_Paulo\"))\n",
    "dirname = \"{dia}-{mes}-{ano}_{hora}_{minuto}_{segundo}\".format(\n",
    "            dia=current_run.day,\n",
    "            mes=current_run.month,\n",
    "            ano=current_run.year, \n",
    "            hora=current_run.hour,\n",
    "            minuto=current_run.minute,\n",
    "            segundo=current_run.second,\n",
    ")\n",
    "PROJECT_PATH = os.path.join(BASE_PATH, RESULTS_RELATIVE_PATH, dirname)\n",
    "os.makedirs(PROJECT_PATH, exist_ok=True)\n",
    "model = YOLO('yolo12n-seg.yaml')\n",
    "\n",
    "model.train(data=DATA_YAML, epochs=TRAIN_EPOCH, imgsz=IM_SIZE, batch=BATCH_SIZE, device=GPUS, project=PROJECT_PATH, exist_ok=True)"
   ]
  }
 ],
 "metadata": {
  "kernelspec": {
   "display_name": "jupyter-notebooks",
   "language": "python",
   "name": "python3"
  },
  "language_info": {
   "codemirror_mode": {
    "name": "ipython",
    "version": 3
   },
   "file_extension": ".py",
   "mimetype": "text/x-python",
   "name": "python",
   "nbconvert_exporter": "python",
   "pygments_lexer": "ipython3",
   "version": "3.11.13"
  }
 },
 "nbformat": 4,
 "nbformat_minor": 5
}
