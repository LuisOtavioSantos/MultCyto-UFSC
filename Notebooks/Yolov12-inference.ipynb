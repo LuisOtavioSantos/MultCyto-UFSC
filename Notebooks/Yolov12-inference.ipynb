{
 "cells": [
  {
   "cell_type": "markdown",
   "id": "2778dee6",
   "metadata": {},
   "source": [
    "# YOLO12n-SEG Inference"
   ]
  },
  {
   "cell_type": "code",
   "execution_count": null,
   "id": "ea33458f-e8ca-4021-9ae2-c930f8f0d4a3",
   "metadata": {},
   "outputs": [],
   "source": [
    "%reload_ext autoreload\n",
    "%autoreload 2\n",
    "%matplotlib inline\n",
    "!nvcc --version\n",
    "\n",
    "import os\n",
    "import torch\n",
    "from IPython import get_ipython\n",
    "\n",
    "\n",
    "BASE_PATH = os.path.dirname(os.getcwd())\n",
    "VISIBLE_GPUS = [3,4,6]\n",
    "\n",
    "os.environ[\"CUDA_VISIBLE_DEVICES\"] = str(VISIBLE_GPUS).replace(\"]\", \"\").replace(\"[\",\"\").replace(\" \", \"\")\n",
    "os.environ[\"NVIDIA_VISIBLE_DEVICES\"] = str(VISIBLE_GPUS).replace(\"]\", \"\").replace(\"[\",\"\").replace(\" \", \"\")\n",
    "print(\"CUDA GPUS NUMBER: \", torch.cuda.device_count())"
   ]
  },
  {
   "cell_type": "code",
   "execution_count": null,
   "id": "dd991cf9-af1b-479c-b8d8-cce5f4284a24",
   "metadata": {},
   "outputs": [],
   "source": [
    "from ultralytics import YOLO\n",
    "\n",
    "model = YOLO('/model_weights/YOLO11n-seg/best.pt')\n",
    "PROJECT_PATH = '/path/to/your/project'\n",
    "\n",
    "YAML_RELATIVE_PATH = \"dataset/data.yaml\"\n",
    "DATA_YAML = os.path.join(BASE_PATH, YAML_RELATIVE_PATH)\n",
    "\n",
    "\n",
    "print(BASE_PATH)\n",
    "print(DATA_YAML)\n",
    "print(YAML_RELATIVE_PATH)"
   ]
  },
  {
   "cell_type": "code",
   "execution_count": 5,
   "id": "4cf3d8a4-0b8c-404a-bf55-3521af7f428c",
   "metadata": {
    "scrolled": true
   },
   "outputs": [],
   "source": [
    "import numpy as np\n",
    "import json\n",
    "import os\n",
    "\n",
    "class NPEncoder(json.JSONEncoder):\n",
    "    def default(self, obj):\n",
    "        if isinstance(obj, np.ndarray):\n",
    "            return obj.tolist()\n",
    "        return super().default(obj)"
   ]
  },
  {
   "cell_type": "code",
   "execution_count": null,
   "id": "42200a1b-bc79-4458-a9d6-4b468e717e7c",
   "metadata": {
    "scrolled": true
   },
   "outputs": [],
   "source": [
    "metrics_test = model.val(save_json=True, project=PROJECT_PATH, name=\"test\", split=\"test\")\n",
    "metrics_val = model.val(save_json=True, project=PROJECT_PATH, name=\"val\", split=\"val\")\n",
    "\n",
    "\n",
    "summary_json = {\n",
    "    \"metrics\": metrics_val.results_dict,\n",
    "    \"speed\": metrics_val.speed,\n",
    "}\n",
    "summary_json[\"metrics\"].update({\"map50\": metrics_val.seg.map50})\n",
    "summary_json[\"metrics\"].update({\"map75\": metrics_val.seg.map75})\n",
    "summary_json[\"metrics\"].update({\"f1\": metrics_val.seg.f1})\n",
    "\n",
    "with open(os.path.join(PROJECT_PATH, \"val/val_summary.json\"), \"w\") as of:\n",
    "    json.dump(summary_json, of, cls=NPEncoder)\n",
    "\n",
    "summary_json = {\n",
    "    \"metrics\": metrics_test.results_dict,\n",
    "    \"speed\": metrics_test.speed,\n",
    "}\n",
    "summary_json[\"metrics\"].update({\"map50\": metrics_test.seg.map50})\n",
    "summary_json[\"metrics\"].update({\"map75\": metrics_test.seg.map75})\n",
    "summary_json[\"metrics\"].update({\"f1\": metrics_test.seg.f1})\n",
    "\n",
    "with open(os.path.join(PROJECT_PATH, \"test/test_summary.json\"), \"w\") as of:\n",
    "    json.dump(summary_json, of, cls=NPEncoder)\n"
   ]
  },
  {
   "cell_type": "code",
   "execution_count": 19,
   "id": "f5000b49-6dd3-4406-8b9b-98f23ed865a4",
   "metadata": {},
   "outputs": [
    {
     "name": "stdout",
     "output_type": "stream",
     "text": [
      "0.38669334000399624\n",
      "0.2993233137098712\n",
      "0.381434346529227\n",
      "0.3023487525323844\n"
     ]
    }
   ],
   "source": [
    "print(metrics_test.seg.map50)\n",
    "print(metrics_test.seg.map75)\n",
    "print(metrics_val.seg.map50)\n",
    "print(metrics_val.seg.map75)"
   ]
  },
  {
   "cell_type": "code",
   "execution_count": 11,
   "id": "d7b6a831-bc6b-487a-9b12-5ec2b1a4d1e3",
   "metadata": {},
   "outputs": [
    {
     "name": "stdout",
     "output_type": "stream",
     "text": [
      "0.38669334000399624\n",
      "0.2993233137098712\n",
      "0.381434346529227\n",
      "0.3023487525323844\n"
     ]
    }
   ],
   "source": [
    "print(metrics_test.seg.map50)\n",
    "print(metrics_test.seg.map75)\n",
    "print(metrics_val.seg.map50)\n",
    "print(metrics_val.seg.map75)"
   ]
  }
 ],
 "metadata": {
  "kernelspec": {
   "display_name": "Python 3 (ipykernel)",
   "language": "python",
   "name": "python3"
  },
  "language_info": {
   "codemirror_mode": {
    "name": "ipython",
    "version": 3
   },
   "file_extension": ".py",
   "mimetype": "text/x-python",
   "name": "python",
   "nbconvert_exporter": "python",
   "pygments_lexer": "ipython3",
   "version": "3.11.10"
  }
 },
 "nbformat": 4,
 "nbformat_minor": 5
}
