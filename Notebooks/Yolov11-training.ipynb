{
 "cells": [
  {
   "cell_type": "markdown",
   "id": "7ac44ed2",
   "metadata": {},
   "source": [
    "# YOLO11n-SEG Training"
   ]
  },
  {
   "cell_type": "code",
   "execution_count": null,
   "id": "f63f352d-99d3-4d00-9d2e-856043b20187",
   "metadata": {},
   "outputs": [],
   "source": [
    "%reload_ext autoreload\n",
    "%autoreload 2\n",
    "%matplotlib inline\n",
    "!nvcc --version\n",
    "\n",
    "import os\n",
    "import torch\n",
    "from IPython import get_ipython\n",
    "\n",
    "\n",
    "BASE_PATH = os.path.dirname(os.getcwd())\n",
    "VISIBLE_GPUS = [3,4,6]\n",
    "\n",
    "os.environ[\"CUDA_VISIBLE_DEVICES\"] = str(VISIBLE_GPUS).replace(\"]\", \"\").replace(\"[\",\"\").replace(\" \", \"\")\n",
    "os.environ[\"NVIDIA_VISIBLE_DEVICES\"] = str(VISIBLE_GPUS).replace(\"]\", \"\").replace(\"[\",\"\").replace(\" \", \"\")\n",
    "print(\"CUDA GPUS NUMBER: \", torch.cuda.device_count())"
   ]
  },
  {
   "cell_type": "code",
   "execution_count": null,
   "id": "dd991cf9-af1b-479c-b8d8-cce5f4284a24",
   "metadata": {},
   "outputs": [],
   "source": [
    "YAML_RELATIVE_PATH = \"dataset/data.yaml\"\n",
    "DATA_YAML = os.path.join(BASE_PATH, YAML_RELATIVE_PATH)\n",
    "\n",
    "\n",
    "print(BASE_PATH)\n",
    "print(DATA_YAML)\n",
    "print(YAML_RELATIVE_PATH)"
   ]
  },
  {
   "cell_type": "code",
   "execution_count": 4,
   "id": "400c8711-d358-4fc5-a64b-f1a0853e0c93",
   "metadata": {},
   "outputs": [],
   "source": [
    "import numpy as np\n",
    "import json\n",
    "import os\n",
    "import datetime\n",
    "import pytz\n",
    "from ultralytics import YOLO\n",
    "\n",
    "class NPEncoder(json.JSONEncoder):\n",
    "    def default(self, obj):\n",
    "        if isinstance(obj, np.ndarray):\n",
    "            return obj.tolist()\n",
    "        return super().default(obj)"
   ]
  },
  {
   "cell_type": "code",
   "execution_count": 5,
   "id": "7ecde83c-634b-4788-ab01-e020ce98d6b9",
   "metadata": {
    "scrolled": true
   },
   "outputs": [],
   "source": [
    "import numpy as np\n",
    "import json\n",
    "\n",
    "\n",
    "class NPEncoder(json.JSONEncoder):\n",
    "    def default(self, obj):\n",
    "        if isinstance(obj, np.ndarray):\n",
    "            return obj.tolist()\n",
    "        return super().default(obj)"
   ]
  },
  {
   "cell_type": "code",
   "execution_count": null,
   "id": "ef8d6701-c401-4c66-9860-2eb288b5ae00",
   "metadata": {
    "scrolled": true
   },
   "outputs": [],
   "source": [
    "BATCH_SIZE = 210*3\n",
    "TRAIN_EPOCH = 100\n",
    "IM_SIZE = 800\n",
    "RESULTS_RELATIVE_PATH = 'arquivos/Citologia/RESULTS/Unified/yolo11n/seg'\n",
    "current_run = datetime.datetime.now(pytz.timezone(\"America/Sao_Paulo\"))\n",
    "dirname = \"{dia}-{mes}-{ano}_{hora}_{minuto}_{segundo}\".format(\n",
    "            dia=current_run.day,\n",
    "            mes=current_run.month,\n",
    "            ano=current_run.year, \n",
    "            hora=current_run.hour,\n",
    "            minuto=current_run.minute,\n",
    "            segundo=current_run.second,\n",
    ")\n",
    "PROJECT_PATH = os.path.join(BASE_PATH, RESULTS_RELATIVE_PATH, dirname)\n",
    "os.makedirs(PROJECT_PATH, exist_ok=True)\n",
    "model = YOLO('yolo11n-seg.pt')\n",
    "\n",
    "model.train(data=DATA_YAML, epochs=TRAIN_EPOCH, imgsz=IM_SIZE, batch=BATCH_SIZE, device=VISIBLE_GPUS, project=PROJECT_PATH, exist_ok=True)"
   ]
  },
  {
   "cell_type": "code",
   "execution_count": null,
   "id": "0ada7c51-2f90-4627-9fc5-2416224a4db4",
   "metadata": {},
   "outputs": [],
   "source": [
    "model = YOLO('/model_weights/YOLO11n-seg/best.pt')\n",
    "PROJECT_PATH = '/path/to/yolo/project'"
   ]
  },
  {
   "cell_type": "code",
   "execution_count": 7,
   "id": "224df9cd-169a-4990-a0a4-0ff5e729daad",
   "metadata": {},
   "outputs": [
    {
     "name": "stdout",
     "output_type": "stream",
     "text": [
      "Ultralytics 8.3.89 🚀 Python-3.11.10 torch-2.6.0+cu124 CUDA:0 (NVIDIA H100 80GB HBM3, 80995MiB)\n",
      "YOLO11n-seg summary (fused): 113 layers, 2,838,858 parameters, 0 gradients, 10.2 GFLOPs\n"
     ]
    },
    {
     "name": "stderr",
     "output_type": "stream",
     "text": [
      "\u001b[34m\u001b[1mval: \u001b[0mScanning /home/jovyan/arquivos/Citologia/Datasets/Unificado/images_rescaled/yolo_format/test/labels.cache... 2472 images, 1 backgrounds, 0 corrupt: 100%|██████████| 2472/2472 [00:00<?, ?it/s]"
     ]
    },
    {
     "name": "stdout",
     "output_type": "stream",
     "text": [
      "\u001b[34m\u001b[1mval: \u001b[0mWARNING ⚠️ /home/jovyan/arquivos/Citologia/Datasets/Unificado/images_rescaled/yolo_format/test/images/2019_07_10__14_48__0045_b0s0c0x139843-1600y73546-1200m10229.tiff: 1 duplicate labels removed\n",
      "\u001b[34m\u001b[1mval: \u001b[0mWARNING ⚠️ /home/jovyan/arquivos/Citologia/Datasets/Unificado/images_rescaled/yolo_format/test/images/2019_07_10__14_48__0045_b0s0c0x144234-1600y21755-1200m3080.tiff: 1 duplicate labels removed\n",
      "\u001b[34m\u001b[1mval: \u001b[0mWARNING ⚠️ /home/jovyan/arquivos/Citologia/Datasets/Unificado/images_rescaled/yolo_format/test/images/2019_07_10__14_48__0045_b0s0c0x144249-1600y14208-1200m2037.tiff: 1 duplicate labels removed\n",
      "\u001b[34m\u001b[1mval: \u001b[0mWARNING ⚠️ /home/jovyan/arquivos/Citologia/Datasets/Unificado/images_rescaled/yolo_format/test/images/2019_07_10__14_48__0045_b0s0c0x147120-1600y20684-1200m2933.tiff: 1 duplicate labels removed\n",
      "\u001b[34m\u001b[1mval: \u001b[0mWARNING ⚠️ /home/jovyan/arquivos/Citologia/Datasets/Unificado/images_rescaled/yolo_format/test/images/2019_07_10__14_48__0045_b0s0c0x155707-1600y56314-1200m7856.tiff: 1 duplicate labels removed\n",
      "\u001b[34m\u001b[1mval: \u001b[0mWARNING ⚠️ /home/jovyan/arquivos/Citologia/Datasets/Unificado/images_rescaled/yolo_format/test/images/2019_07_10__14_48__0045_b0s0c0x157085-1600y89774-1200m12476.tiff: 1 duplicate labels removed\n",
      "\u001b[34m\u001b[1mval: \u001b[0mWARNING ⚠️ /home/jovyan/arquivos/Citologia/Datasets/Unificado/images_rescaled/yolo_format/test/images/2019_07_10__14_48__0045_b0s0c0x168691-1600y34737-1200m4885.tiff: 1 duplicate labels removed\n",
      "\u001b[34m\u001b[1mval: \u001b[0mWARNING ⚠️ /home/jovyan/arquivos/Citologia/Datasets/Unificado/images_rescaled/yolo_format/test/images/2019_07_10__14_48__0045_b0s0c0x181635-1600y41226-1200m5788.tiff: 1 duplicate labels removed\n",
      "\u001b[34m\u001b[1mval: \u001b[0mWARNING ⚠️ /home/jovyan/arquivos/Citologia/Datasets/Unificado/images_rescaled/yolo_format/test/images/2019_07_10__14_48__0045_b0s0c0x181669-1600y20740-1200m2957.tiff: 1 duplicate labels removed\n",
      "\u001b[34m\u001b[1mval: \u001b[0mWARNING ⚠️ /home/jovyan/arquivos/Citologia/Datasets/Unificado/images_rescaled/yolo_format/test/images/2019_07_10__14_48__0045_b0s0c0x190248-1600y59603-1200m8327.tiff: 1 duplicate labels removed\n",
      "\u001b[34m\u001b[1mval: \u001b[0mWARNING ⚠️ /home/jovyan/arquivos/Citologia/Datasets/Unificado/images_rescaled/yolo_format/test/images/2019_07_10__14_48__0045_b0s0c0x76453-1600y84283-1200m11675.tiff: 1 duplicate labels removed\n",
      "\u001b[34m\u001b[1mval: \u001b[0mWARNING ⚠️ /home/jovyan/arquivos/Citologia/Datasets/Unificado/images_rescaled/yolo_format/test/images/2019_07_10__14_48__0045_b0s0c0x83657-1600y75658-1200m10488.tiff: 1 duplicate labels removed\n",
      "\u001b[34m\u001b[1mval: \u001b[0mWARNING ⚠️ /home/jovyan/arquivos/Citologia/Datasets/Unificado/images_rescaled/yolo_format/test/images/2019_07_10__14_48__0045_b0s0c0x86541-1600y75663-1200m10490.tiff: 1 duplicate labels removed\n",
      "\u001b[34m\u001b[1mval: \u001b[0mWARNING ⚠️ /home/jovyan/arquivos/Citologia/Datasets/Unificado/images_rescaled/yolo_format/test/images/2019_07_10__14_48__0045_b0s0c0x98062-1600y101528-1200m14074.tiff: 1 duplicate labels removed\n",
      "\u001b[34m\u001b[1mval: \u001b[0mWARNING ⚠️ /home/jovyan/arquivos/Citologia/Datasets/Unificado/images_rescaled/yolo_format/test/images/2019_12_12__10_28__0035-1_s0c0x24890-1600y9774-1200m2366.tiff: 1 duplicate labels removed\n"
     ]
    },
    {
     "name": "stderr",
     "output_type": "stream",
     "text": [
      "\n",
      "                 Class     Images  Instances      Box(P          R      mAP50  mAP50-95)     Mask(P          R      mAP50  mAP50-95): 100%|██████████| 155/155 [10:52<00:00,  4.21s/it]\n"
     ]
    },
    {
     "name": "stdout",
     "output_type": "stream",
     "text": [
      "                   all       2472      16240      0.561      0.526      0.509      0.389      0.548      0.523        0.5       0.34\n",
      "           pap_anormal        629       1688      0.481      0.794      0.643      0.496       0.48      0.793      0.641      0.455\n",
      "          pap_saudavel         91        249      0.504      0.787      0.696      0.612      0.504      0.787      0.696      0.577\n",
      "      pap_fora_de_foco        580       1846      0.415      0.367      0.391      0.266      0.415      0.367      0.391      0.242\n",
      "         pap_sanguinea        301        671      0.423      0.607       0.42      0.316      0.422      0.605      0.419      0.279\n",
      "        pap_em_divisao          5          5          1          0     0.0862     0.0745          1          0     0.0862     0.0689\n",
      "      pap_nao_definida          5          9          1          0    0.00351    0.00256          1          0    0.00351    0.00218\n",
      "         pap_reacional         48        114      0.406      0.138      0.249      0.205      0.406      0.138      0.249      0.194\n",
      "         agnor_Nucleus        838       2072      0.644      0.885      0.834      0.689      0.643      0.885      0.833      0.548\n",
      "         agnor_Cluster        791       3864      0.695      0.432      0.549      0.223      0.542      0.337      0.379     0.0915\n",
      "       agnor_Satellite        435        956      0.297    0.00628     0.0846     0.0291      0.149    0.00314     0.0373    0.00933\n",
      "agnor_Nucleus_out_of_focus        649       1327      0.536      0.771      0.696      0.578      0.536      0.772      0.697      0.531\n",
      "agnor_Overlapped_Nuclei        135        187      0.285      0.123      0.189      0.122      0.285      0.123      0.185      0.112\n",
      "agnor_non_viable_nucleus        288        755      0.563      0.453      0.514       0.39      0.562      0.452      0.511       0.33\n",
      "agnor_Leukocyte_Nucleus         84        218      0.487      0.711      0.648      0.557      0.491      0.716      0.649      0.513\n",
      "      feulgen_alterada        133        615      0.727      0.914      0.917      0.793       0.73      0.917       0.92       0.74\n",
      " feulgen_intermediaria        105        265      0.579      0.657      0.615      0.497      0.579      0.657      0.616      0.425\n",
      "        feulgen_velhas         45         67      0.542      0.547      0.489      0.337      0.557      0.562       0.51       0.32\n",
      "       feulgen_sujeira         72        193      0.582      0.725      0.708      0.594      0.586      0.731      0.712      0.553\n",
      "  feulgen_sobreposicao        109        606      0.537      0.685      0.607      0.356      0.535      0.681      0.602      0.304\n",
      "feulgen_nao_identificado        131        405      0.616      0.872      0.837      0.679      0.618      0.874      0.837      0.554\n",
      "    feulgen_neutrofilo         58        128      0.464       0.57      0.514      0.346       0.47      0.578      0.532      0.294\n",
      "Speed: 0.2ms preprocess, 0.8ms inference, 0.0ms loss, 0.4ms postprocess per image\n",
      "Saving /lapix/arquivos/Citologia/RESULTS/Unified/yolo11n/seg/13-3-2025_21_47_41/train/test2/predictions.json...\n",
      "Results saved to \u001b[1m/lapix/arquivos/Citologia/RESULTS/Unified/yolo11n/seg/13-3-2025_21_47_41/train/test2\u001b[0m\n",
      "Ultralytics 8.3.89 🚀 Python-3.11.10 torch-2.6.0+cu124 CUDA:0 (NVIDIA H100 80GB HBM3, 80995MiB)\n"
     ]
    },
    {
     "name": "stderr",
     "output_type": "stream",
     "text": [
      "\u001b[34m\u001b[1mval: \u001b[0mScanning /home/jovyan/arquivos/Citologia/Datasets/Unificado/images_rescaled/yolo_format/val/labels.cache... 2448 images, 0 backgrounds, 2 corrupt: 100%|██████████| 2448/2448 [00:00<?, ?it/s]"
     ]
    },
    {
     "name": "stdout",
     "output_type": "stream",
     "text": [
      "\u001b[34m\u001b[1mval: \u001b[0mWARNING ⚠️ /home/jovyan/arquivos/Citologia/Datasets/Unificado/images_rescaled/yolo_format/val/images/2019_07_10__14_48__0045_b0s0c0x134053-1600y89742-1200m12460.tiff: 1 duplicate labels removed\n",
      "\u001b[34m\u001b[1mval: \u001b[0mWARNING ⚠️ /home/jovyan/arquivos/Citologia/Datasets/Unificado/images_rescaled/yolo_format/val/images/2019_07_10__14_48__0045_b0s0c0x157082-1600y90852-1200m12625.tiff: 1 duplicate labels removed\n",
      "\u001b[34m\u001b[1mval: \u001b[0mWARNING ⚠️ /home/jovyan/arquivos/Citologia/Datasets/Unificado/images_rescaled/yolo_format/val/images/2019_07_10__14_48__0045_b0s0c0x168684-1600y36895-1200m5183.tiff: 1 duplicate labels removed\n",
      "\u001b[34m\u001b[1mval: \u001b[0mWARNING ⚠️ /home/jovyan/arquivos/Citologia/Datasets/Unificado/images_rescaled/yolo_format/val/images/2019_07_10__14_48__0045_b0s0c0x78010-1600y13038-1200m1842.tiff: 1 duplicate labels removed\n",
      "\u001b[34m\u001b[1mval: \u001b[0mWARNING ⚠️ /home/jovyan/arquivos/Citologia/Datasets/Unificado/images_rescaled/yolo_format/val/images/2019_07_10__14_48__0045_b0s0c0x89480-1600y38971-1200m5426.tiff: ignoring corrupt image/label: non-normalized or out of bounds coordinates [      1.315      1.1592]\n",
      "\u001b[34m\u001b[1mval: \u001b[0mWARNING ⚠️ /home/jovyan/arquivos/Citologia/Datasets/Unificado/images_rescaled/yolo_format/val/images/2019_07_10__14_48__0045_b0s0c0x89539-1600y11976-1200m1701.tiff: 1 duplicate labels removed\n",
      "\u001b[34m\u001b[1mval: \u001b[0mWARNING ⚠️ /home/jovyan/arquivos/Citologia/Datasets/Unificado/images_rescaled/yolo_format/val/images/2019_07_10__14_48__0045_b0s0c0x92289-1600y77832-1200m10792.tiff: 1 duplicate labels removed\n",
      "\u001b[34m\u001b[1mval: \u001b[0mWARNING ⚠️ /home/jovyan/arquivos/Citologia/Datasets/Unificado/images_rescaled/yolo_format/val/images/2019_07_10__14_48__0045_b0s0c0x93710-1600y89721-1200m12432.tiff: 1 duplicate labels removed\n",
      "\u001b[34m\u001b[1mval: \u001b[0mWARNING ⚠️ /home/jovyan/arquivos/Citologia/Datasets/Unificado/images_rescaled/yolo_format/val/images/2019_07_10__14_48__0045_b0s0c0x93713-1600y88645-1200m12283.tiff: 1 duplicate labels removed\n",
      "\u001b[34m\u001b[1mval: \u001b[0mWARNING ⚠️ /home/jovyan/arquivos/Citologia/Datasets/Unificado/images_rescaled/yolo_format/val/images/2019_07_10__14_48__0045_b0s0c0x98059-1600y69212-1200m9604.tiff: ignoring corrupt image/label: non-normalized or out of bounds coordinates [     1.2942      1.2092      1.1662      1.0646      1.0529      1.0238]\n",
      "\u001b[34m\u001b[1mval: \u001b[0mWARNING ⚠️ /home/jovyan/arquivos/Citologia/Datasets/Unificado/images_rescaled/yolo_format/val/images/2019_07_10__14_48__0045_b0s0c0x99574-1600y43258-1200m6029.tiff: 1 duplicate labels removed\n",
      "\u001b[34m\u001b[1mval: \u001b[0mWARNING ⚠️ /home/jovyan/arquivos/Citologia/Datasets/Unificado/images_rescaled/yolo_format/val/images/2019_12_12__10_28__0035-1_s0c0x21977-1600y20563-1200m4974.tiff: 1 duplicate labels removed\n",
      "\u001b[34m\u001b[1mval: \u001b[0mWARNING ⚠️ /home/jovyan/arquivos/Citologia/Datasets/Unificado/images_rescaled/yolo_format/val/images/2019_12_12__10_28__0035-1_s0c0x49219-1600y76688-1200m18565.tiff: 1 duplicate labels removed\n"
     ]
    },
    {
     "name": "stderr",
     "output_type": "stream",
     "text": [
      "\n",
      "                 Class     Images  Instances      Box(P          R      mAP50  mAP50-95)     Mask(P          R      mAP50  mAP50-95): 100%|██████████| 153/153 [10:54<00:00,  4.28s/it]\n"
     ]
    },
    {
     "name": "stdout",
     "output_type": "stream",
     "text": [
      "                   all       2446      16143      0.532      0.533      0.498      0.381      0.525      0.523      0.492      0.333\n",
      "           pap_anormal        573       1534      0.463      0.825      0.641      0.498      0.468      0.817      0.641       0.46\n",
      "          pap_saudavel        102        232      0.501      0.681      0.596      0.502      0.502      0.668      0.595       0.48\n",
      "      pap_fora_de_foco        570       1673      0.405      0.408      0.373      0.252      0.414      0.384      0.377      0.232\n",
      "         pap_sanguinea        281        638      0.451      0.622       0.49      0.369      0.453      0.598       0.49      0.329\n",
      "        pap_em_divisao          4          4          1          0     0.0296     0.0294          1          0     0.0296     0.0267\n",
      "      pap_nao_definida          9          9      0.618      0.111       0.12      0.106      0.632      0.111       0.12      0.107\n",
      "         pap_reacional         48         85      0.417      0.219      0.291      0.253      0.401      0.205      0.291      0.233\n",
      "         agnor_Nucleus        858       2142      0.619      0.863      0.808      0.667      0.627      0.857      0.807      0.529\n",
      "         agnor_Cluster        807       4014      0.683      0.438      0.547      0.214      0.539      0.332      0.375     0.0922\n",
      "       agnor_Satellite        431        884      0.324     0.0113     0.0722     0.0249      0.148    0.00452     0.0242    0.00539\n",
      "agnor_Nucleus_out_of_focus        656       1423       0.53      0.766      0.667      0.555      0.535      0.757      0.667       0.51\n",
      "agnor_Overlapped_Nuclei        140        207      0.284      0.169      0.178      0.127      0.287      0.155      0.181      0.118\n",
      "agnor_non_viable_nucleus        280        724      0.513      0.525      0.522        0.4      0.516      0.507      0.519      0.334\n",
      "agnor_Leukocyte_Nucleus         87        218      0.427      0.683      0.596      0.505      0.439      0.683      0.604       0.46\n",
      "      feulgen_alterada        147        639      0.715       0.93      0.902      0.779      0.721      0.931      0.903      0.727\n",
      " feulgen_intermediaria        105        276      0.503      0.558      0.533      0.429      0.512      0.551      0.533      0.356\n",
      "        feulgen_velhas         44         66      0.588      0.561      0.558      0.403      0.622      0.591      0.589      0.359\n",
      "       feulgen_sujeira         79        169       0.53       0.58      0.564      0.477      0.553       0.58      0.574      0.441\n",
      "  feulgen_sobreposicao        115        628      0.491      0.706      0.574      0.343        0.5      0.699      0.578      0.296\n",
      "feulgen_nao_identificado        133        450      0.632      0.858      0.799      0.635      0.649      0.858      0.806      0.526\n",
      "    feulgen_neutrofilo         71        128      0.485      0.672      0.595      0.433      0.516      0.695      0.625      0.375\n",
      "Speed: 0.2ms preprocess, 0.7ms inference, 0.0ms loss, 0.4ms postprocess per image\n",
      "Saving /lapix/arquivos/Citologia/RESULTS/Unified/yolo11n/seg/13-3-2025_21_47_41/train/val2/predictions.json...\n",
      "Results saved to \u001b[1m/lapix/arquivos/Citologia/RESULTS/Unified/yolo11n/seg/13-3-2025_21_47_41/train/val2\u001b[0m\n"
     ]
    }
   ],
   "source": [
    "metrics_test = model.val(save_json=True, project=PROJECT_PATH, name=\"test\", split=\"test\")\n",
    "metrics_val = model.val(save_json=True, project=PROJECT_PATH, name=\"val\", split=\"val\")\n",
    "\n",
    "\n",
    "summary_json = {\n",
    "    \"metrics\": metrics_val.results_dict,\n",
    "    \"speed\": metrics_val.speed,\n",
    "}\n",
    "summary_json[\"metrics\"].update({\"map50\": metrics_val.seg.map50})\n",
    "summary_json[\"metrics\"].update({\"map75\": metrics_val.seg.map75})\n",
    "summary_json[\"metrics\"].update({\"f1\": metrics_val.seg.f1})\n",
    "\n",
    "with open(os.path.join(PROJECT_PATH, \"val/val_summary.json\"), \"w\") as of:\n",
    "    json.dump(summary_json, of, cls=NPEncoder)\n",
    "\n",
    "summary_json = {\n",
    "    \"metrics\": metrics_test.results_dict,\n",
    "    \"speed\": metrics_test.speed,\n",
    "}\n",
    "summary_json[\"metrics\"].update({\"map50\": metrics_test.seg.map50})\n",
    "summary_json[\"metrics\"].update({\"map75\": metrics_test.seg.map75})\n",
    "summary_json[\"metrics\"].update({\"f1\": metrics_test.seg.f1})\n",
    "\n",
    "with open(os.path.join(PROJECT_PATH, \"test/test_summary.json\"), \"w\") as of:\n",
    "    json.dump(summary_json, of, cls=NPEncoder)"
   ]
  },
  {
   "cell_type": "code",
   "execution_count": 8,
   "id": "4dd25213-6062-4f6c-a542-21de29d876cc",
   "metadata": {},
   "outputs": [
    {
     "name": "stdout",
     "output_type": "stream",
     "text": [
      "0.5002588215280105\n",
      "0.40950478490625947\n",
      "0.4918070646092144\n",
      "0.406441173763082\n"
     ]
    }
   ],
   "source": [
    "print(metrics_test.seg.map50)\n",
    "print(metrics_test.seg.map75)\n",
    "print(metrics_val.seg.map50)\n",
    "print(metrics_val.seg.map75)"
   ]
  }
 ],
 "metadata": {
  "kernelspec": {
   "display_name": "Python 3 (ipykernel)",
   "language": "python",
   "name": "python3"
  },
  "language_info": {
   "codemirror_mode": {
    "name": "ipython",
    "version": 3
   },
   "file_extension": ".py",
   "mimetype": "text/x-python",
   "name": "python",
   "nbconvert_exporter": "python",
   "pygments_lexer": "ipython3",
   "version": "3.11.10"
  }
 },
 "nbformat": 4,
 "nbformat_minor": 5
}
